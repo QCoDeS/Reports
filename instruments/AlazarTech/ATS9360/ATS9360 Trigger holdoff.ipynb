{
 "cells": [
  {
   "cell_type": "code",
   "execution_count": 1,
   "metadata": {},
   "outputs": [],
   "source": [
    "%matplotlib inline"
   ]
  },
  {
   "cell_type": "markdown",
   "metadata": {},
   "source": [
    "AlazarTech recently introduced support for trigger holdoff in the firmware of the 9360. In this report we investigate the difference enabling and disabling this."
   ]
  },
  {
   "cell_type": "markdown",
   "metadata": {},
   "source": [
    "For this report we will use a Alazar 9360 and a Keysight/Agilent 33522B Waveform generator. The output \n",
    "of the waveform generator channel 1 is supplied to the Alazar channel A and the Sync output of the Wavefrom generator is ued to trigger the Alazar using the external trigger interface. In addition we are using an Alazar controller from qdev_wrappers\n",
    "https://github.com/qdev-dk/qdev-wrappers/"
   ]
  },
  {
   "cell_type": "code",
   "execution_count": 2,
   "metadata": {},
   "outputs": [],
   "source": [
    "import qcodes as qc\n",
    "from qdev_wrappers.alazar_controllers.ATSChannelController import ATSChannelController\n",
    "from qdev_wrappers.alazar_controllers.alazar_channel import AlazarChannel\n",
    "from qcodes.instrument_drivers.AlazarTech.ATS9360 import AlazarTech_ATS9360\n",
    "from qcodes.instrument_drivers.Keysight.KeysightAgilent_33XXX import WaveformGenerator_33XXX\n",
    "from qcodes.dataset.database import initialise_database\n",
    "\n",
    "from qcodes.dataset.experiment_container import new_experiment\n",
    "from qcodes.dataset.measurements import Measurement\n",
    "from qcodes.dataset.plotting import plot_by_id"
   ]
  },
  {
   "cell_type": "code",
   "execution_count": 3,
   "metadata": {},
   "outputs": [
    {
     "name": "stdout",
     "output_type": "stream",
     "text": [
      "Connected to: Agilent Technologies 33522B (serial:MY57800256, firmware:3.05-1.19-2.00-52-00) in 0.14s\n"
     ]
    }
   ],
   "source": [
    "alazar = AlazarTech_ATS9360('Alazar')\n",
    "myctrl = ATSChannelController(name='my_controller', alazar_name='Alazar')\n",
    "wfg = WaveformGenerator_33XXX('wfg', 'TCPIP0::192.168.15.108::inst0::INSTR')\n",
    "chan = AlazarChannel(myctrl, 'myrecvssamples', demod=False, average_records=False, integrate_samples=False)"
   ]
  },
  {
   "cell_type": "markdown",
   "metadata": {},
   "source": [
    "For this to work the firmware of the Alazar must be upgraded to at least version 21.07 "
   ]
  },
  {
   "cell_type": "code",
   "execution_count": 4,
   "metadata": {},
   "outputs": [
    {
     "data": {
      "text/plain": [
       "{'firmware': '21.07',\n",
       " 'model': 'ATS9360',\n",
       " 'max_samples': 4294967294,\n",
       " 'bits_per_sample': 12,\n",
       " 'serial': '970396',\n",
       " 'vendor': 'AlazarTech',\n",
       " 'CPLD_version': '25.16',\n",
       " 'driver_version': '6.1.2',\n",
       " 'SDK_version': '6.1.2',\n",
       " 'latest_cal_date': '25-01-17',\n",
       " 'memory_size': '4294967294',\n",
       " 'asopc_type': '1729463136',\n",
       " 'pcie_link_speed': '0.5GB/s',\n",
       " 'pcie_link_width': '8'}"
      ]
     },
     "execution_count": 4,
     "metadata": {},
     "output_type": "execute_result"
    }
   ],
   "source": [
    "alazar.get_idn()"
   ]
  },
  {
   "cell_type": "code",
   "execution_count": 5,
   "metadata": {},
   "outputs": [
    {
     "data": {
      "text/plain": [
       "{'vendor': 'Agilent Technologies',\n",
       " 'model': '33522B',\n",
       " 'serial': 'MY57800256',\n",
       " 'firmware': '3.05-1.19-2.00-52-00'}"
      ]
     },
     "execution_count": 5,
     "metadata": {},
     "output_type": "execute_result"
    }
   ],
   "source": [
    "wfg.get_idn()"
   ]
  },
  {
   "cell_type": "markdown",
   "metadata": {},
   "source": [
    "In this example we are using a 20 MHz sin at 100 mVPP and a matching sync signal at each period of the sin."
   ]
  },
  {
   "cell_type": "code",
   "execution_count": 6,
   "metadata": {},
   "outputs": [],
   "source": [
    "wfg.ch1.frequency(20e6)\n",
    "wfg.ch1.offset(0)\n",
    "wfg.ch1.amplitude_unit('VPP')\n",
    "wfg.ch1.amplitude(0.1)\n",
    "wfg.ch1.function_type('SIN')\n",
    "wfg.sync.source(1)\n",
    "\n",
    "wfg.sync.output('ON')\n",
    "wfg.ch1.output('ON')\n",
    "\n",
    "# Configure all settings in the Alazar card\n",
    "with alazar.syncing():    \n",
    "    alazar.clock_source('INTERNAL_CLOCK')\n",
    "    alazar.sample_rate(1_000_000_000)\n",
    "    alazar.clock_edge('CLOCK_EDGE_RISING')\n",
    "    alazar.decimation(1)\n",
    "    alazar.coupling1('DC')\n",
    "    alazar.coupling2('DC')\n",
    "    alazar.channel_range1(.4)\n",
    "    alazar.channel_range2(.4)\n",
    "    alazar.impedance1(50)\n",
    "    alazar.impedance2(50)\n",
    "    alazar.trigger_operation('TRIG_ENGINE_OP_J')\n",
    "    alazar.trigger_engine1('TRIG_ENGINE_J')\n",
    "    alazar.trigger_source1('EXTERNAL')\n",
    "    alazar.trigger_slope1('TRIG_SLOPE_POSITIVE')\n",
    "    alazar.trigger_level1(160)\n",
    "    alazar.trigger_engine2('TRIG_ENGINE_K')\n",
    "    alazar.trigger_source2('DISABLE')\n",
    "    alazar.trigger_slope2('TRIG_SLOPE_POSITIVE')\n",
    "    alazar.trigger_level2(128)\n",
    "    alazar.external_trigger_coupling('DC')\n",
    "    alazar.external_trigger_range('ETR_2V5')\n",
    "    alazar.trigger_delay(0)\n",
    "    alazar.timeout_ticks(0)\n",
    "    alazar.aux_io_mode('AUX_IN_AUXILIARY') # AUX_IN_TRIGGER_ENABLE for seq mode on\n",
    "    alazar.aux_io_param('NONE') # TRIG_SLOPE_POSITIVE for seq mode on\n",
    "    "
   ]
  },
  {
   "cell_type": "markdown",
   "metadata": {},
   "source": [
    "And a record length of 2.2e-6 corrosponding to 455 KHz and expect ~44 triggers per record."
   ]
  },
  {
   "cell_type": "code",
   "execution_count": 7,
   "metadata": {},
   "outputs": [],
   "source": [
    "myctrl.int_time(2.2e-6)\n",
    "\n",
    "chan.num_averages(1)\n",
    "chan.records_per_buffer(10)\n",
    "chan.alazar_channel('A')\n",
    "chan.prepare_channel()"
   ]
  },
  {
   "cell_type": "code",
   "execution_count": 8,
   "metadata": {},
   "outputs": [
    {
     "data": {
      "text/plain": [
       "alazar_holdoff#no sample#2@C:\\Users\\Jens/experiments.db\n",
       "-------------------------------------------------------"
      ]
     },
     "execution_count": 8,
     "metadata": {},
     "output_type": "execute_result"
    }
   ],
   "source": [
    "initialise_database()\n",
    "new_experiment(name='alazar_holdoff', sample_name=\"no sample\")"
   ]
  },
  {
   "cell_type": "code",
   "execution_count": 9,
   "metadata": {},
   "outputs": [
    {
     "name": "stdout",
     "output_type": "stream",
     "text": [
      "Starting experimental run with id: 8\n"
     ]
    },
    {
     "data": {
      "text/plain": [
       "([<matplotlib.axes._subplots.AxesSubplot at 0x15ffdfd5f28>],\n",
       " [<matplotlib.colorbar.Colorbar at 0x15ffdfeee80>])"
      ]
     },
     "execution_count": 9,
     "metadata": {},
     "output_type": "execute_result"
    },
    {
     "data": {
      "image/png": "[encoded data removed]",
      "text/plain": [
       "<Figure size 432x288 with 2 Axes>"
      ]
     },
     "metadata": {
      "needs_background": "light"
     },
     "output_type": "display_data"
    }
   ],
   "source": [
    "# And then run an experiment\n",
    "alazar.trigger_holdoff(False)\n",
    "meas = Measurement()\n",
    "meas.register_parameter(chan.data)  # register the first independent parameter\n",
    "with meas.run() as datasaver:\n",
    "    datasaver.add_result((chan.data, chan.data()))\n",
    "    \n",
    "    dataid = datasaver.run_id  # convenient to have for plotting\n",
    "\n",
    "plot_by_id(dataid)"
   ]
  },
  {
   "cell_type": "markdown",
   "metadata": {},
   "source": [
    "This signal is clearly distorted both due to apparent drift of the trigger to signal and apparent shifts towards the end of the record. The distortion seems to depend on the exact relation between the record length and trigger rate and are not observed for all record_length > 1/trigger_rate "
   ]
  },
  {
   "cell_type": "code",
   "execution_count": 10,
   "metadata": {},
   "outputs": [
    {
     "name": "stdout",
     "output_type": "stream",
     "text": [
      "Starting experimental run with id: 9\n"
     ]
    },
    {
     "data": {
      "text/plain": [
       "([<matplotlib.axes._subplots.AxesSubplot at 0x15ffec53748>],\n",
       " [<matplotlib.colorbar.Colorbar at 0x15fff316f98>])"
      ]
     },
     "execution_count": 10,
     "metadata": {},
     "output_type": "execute_result"
    },
    {
     "data": {
      "image/png": "[encoded data removed]",
      "text/plain": [
       "<Figure size 432x288 with 2 Axes>"
      ]
     },
     "metadata": {
      "needs_background": "light"
     },
     "output_type": "display_data"
    }
   ],
   "source": [
    "# And then run an experiment\n",
    "alazar.trigger_holdoff(True)\n",
    "meas = Measurement()\n",
    "meas.register_parameter(chan.data)  # register the first independent parameter\n",
    "with meas.run() as datasaver:\n",
    "    datasaver.add_result((chan.data, chan.data()))\n",
    "    \n",
    "    dataid = datasaver.run_id  # convenient to have for plotting\n",
    "\n",
    "plot_by_id(dataid)"
   ]
  },
  {
   "cell_type": "markdown",
   "metadata": {},
   "source": [
    "If we enable trigger holdoff the distortion is gone. If you use a external trigger it's very important to ensure that you either enable trigger holdoff or ensure that record_length > 1/trigger_rate"
   ]
  },
  {
   "cell_type": "code",
   "execution_count": null,
   "metadata": {},
   "outputs": [],
   "source": []
  }
 ],
 "metadata": {
  "kernelspec": {
   "display_name": "Python 3",
   "language": "python",
   "name": "python3"
  },
  "language_info": {
   "codemirror_mode": {
    "name": "ipython",
    "version": 3
   },
   "file_extension": ".py",
   "mimetype": "text/x-python",
   "name": "python",
   "nbconvert_exporter": "python",
   "pygments_lexer": "ipython3",
   "version": "3.6.6"
  }
 },
 "nbformat": 4,
 "nbformat_minor": 2
}
