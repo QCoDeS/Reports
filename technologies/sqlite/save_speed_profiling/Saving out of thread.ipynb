{
 "cells": [
  {
   "cell_type": "code",
   "execution_count": 1,
   "metadata": {},
   "outputs": [
    {
     "name": "stdout",
     "output_type": "stream",
     "text": [
      "Logging hadn't been started.\n",
      "Activating auto-logging. Current session state plus future input saved.\n",
      "Filename       : C:\\Users\\wihpniel\\.qcodes\\logs\\command_history.log\n",
      "Mode           : append\n",
      "Output logging : True\n",
      "Raw input log  : False\n",
      "Timestamping   : True\n",
      "State          : active\n",
      "Qcodes Logfile : C:\\Users\\wihpniel\\.qcodes\\logs\\200110-12400-qcodes.log\n",
      "-------------------------\n",
      "QCoDeS version: 0.9.0rc1+56.g9648416db.dirty\n"
     ]
    }
   ],
   "source": [
    "import qcodes\n",
    "from qcodes.utils import installation_info as ii\n",
    "\n",
    "ver = ii.get_qcodes_version()\n",
    "print(25*'-')\n",
    "print(f'QCoDeS version: {ver}')"
   ]
  },
  {
   "cell_type": "code",
   "execution_count": 2,
   "metadata": {},
   "outputs": [],
   "source": [
    "import tempfile\n",
    "import time\n",
    "\n",
    "import numpy as np\n",
    "\n",
    "from qcodes.dataset.measurements import Measurement\n",
    "from qcodes.dataset.experiment_container import new_experiment\n",
    "from qcodes.dataset.sqlite.database import initialise_or_create_database_at"
   ]
  },
  {
   "cell_type": "code",
   "execution_count": 3,
   "metadata": {},
   "outputs": [],
   "source": [
    "def run_experiment(n, m, use_threads=False):\n",
    "    \"\"\"\n",
    "    Run the experiment with 3*n^2 data points to be saved\n",
    "    \"\"\"\n",
    "\n",
    "    with tempfile.TemporaryFile() as dbfile:\n",
    "        dbfile.name += '.db'\n",
    "        print(dbfile.name)\n",
    "        initialise_or_create_database_at(dbfile.name)\n",
    "        \n",
    "        print(f'DB file: {dbfile.name}')\n",
    "        \n",
    "        new_experiment('profiling', 'no_sample')\n",
    "\n",
    "        meas = (Measurement()\n",
    "                .register_custom_parameter('X', paramtype='array')\n",
    "                .register_custom_parameter('Y', paramtype='array')\n",
    "                .register_custom_parameter('Z', paramtype='array', setpoints=['X', 'Y']))\n",
    "\n",
    "        meas.write_period = 1.0\n",
    "        t0 = time.perf_counter()\n",
    "\n",
    "        saving_time = 0\n",
    "        generation_time = 0\n",
    "        \n",
    "        with meas.run(use_threads=use_threads) as datasaver:\n",
    "            init_time = time.perf_counter() - t0\n",
    "            \n",
    "            for _ in range(m):\n",
    "                t1 = time.perf_counter()\n",
    "\n",
    "                xdata, ydata = np.meshgrid(np.random.rand(n), np.random.rand(n))\n",
    "                zdata = np.random.randn(*xdata.shape)\n",
    "                time.sleep(0.5)\n",
    "                \n",
    "                t2 = time.perf_counter()\n",
    "                \n",
    "                generation_time += t2 - t1\n",
    "                \n",
    "                datasaver.add_result(('X', xdata), ('Y', ydata), ('Z', zdata))\n",
    "                t3 = time.perf_counter()\n",
    "                \n",
    "                saving_time += t3 - t2\n",
    "        t4 = time.perf_counter()\n",
    "        saving_time += t4 - t3\n",
    "\n",
    "    print('Report:')\n",
    "    print(f'Number of data points saved: {3*n**2} {m} times')\n",
    "    print(f'Init time:            {init_time} s')\n",
    "    print(f'Data generation time: {generation_time} s')\n",
    "    print(f'Data saving time:     {saving_time} s')\n",
    "    print(f'Total time:           {t4-t0} s')"
   ]
  },
  {
   "cell_type": "code",
   "execution_count": 4,
   "metadata": {},
   "outputs": [
    {
     "name": "stdout",
     "output_type": "stream",
     "text": [
      "C:\\Users\\wihpniel\\AppData\\Local\\Temp\\tmpo5dtn0n9.db\n",
      "Upgrading database; v0 -> v1: : 0it [00:00, ?it/s]\n",
      "Upgrading database; v1 -> v2: 100%|██████████| 1/1 [00:00<00:00, 220.96it/s]\n",
      "Upgrading database; v2 -> v3: : 0it [00:00, ?it/s]\n",
      "Upgrading database; v3 -> v4: : 0it [00:00, ?it/s]\n",
      "Upgrading database; v4 -> v5: 100%|██████████| 1/1 [00:00<00:00, 125.03it/s]\n",
      "Upgrading database; v5 -> v6: : 0it [00:00, ?it/s]\n",
      "Upgrading database; v6 -> v7: 100%|██████████| 1/1 [00:00<00:00, 40.00it/s]\n",
      "Upgrading database; v7 -> v8: 100%|██████████| 1/1 [00:00<00:00, 166.60it/s]\n",
      "DB file: C:\\Users\\wihpniel\\AppData\\Local\\Temp\\tmpo5dtn0n9.db\n",
      "Starting experimental run with id: 1. \n",
      "Report:\n",
      "Number of data points saved: 3000000 10 times\n",
      "Init time:            0.09915930000000017 s\n",
      "Data generation time: 5.478591399999997 s\n",
      "Data saving time:     4.0474167 s\n",
      "Total time:           9.625191000000001 s\n"
     ]
    }
   ],
   "source": [
    "run_experiment(1000, 10, use_threads=False)"
   ]
  },
  {
   "cell_type": "code",
   "execution_count": 5,
   "metadata": {},
   "outputs": [
    {
     "name": "stdout",
     "output_type": "stream",
     "text": [
      "C:\\Users\\wihpniel\\AppData\\Local\\Temp\\tmp8w4w5azl.db\n",
      "Upgrading database; v0 -> v1: : 0it [00:00, ?it/s]\n",
      "Upgrading database; v1 -> v2: 100%|██████████| 1/1 [00:00<00:00, 76.92it/s]\n",
      "Upgrading database; v2 -> v3: : 0it [00:00, ?it/s]\n",
      "Upgrading database; v3 -> v4: : 0it [00:00, ?it/s]\n",
      "Upgrading database; v4 -> v5: 100%|██████████| 1/1 [00:00<00:00, 142.90it/s]\n",
      "Upgrading database; v5 -> v6: : 0it [00:00, ?it/s]\n",
      "Upgrading database; v6 -> v7: 100%|██████████| 1/1 [00:00<00:00, 35.34it/s]\n",
      "Upgrading database; v7 -> v8: 100%|██████████| 1/1 [00:00<00:00, 201.52it/s]\n",
      "DB file: C:\\Users\\wihpniel\\AppData\\Local\\Temp\\tmp8w4w5azl.db\n",
      "Starting experimental run with id: 1. \n",
      "Report:\n",
      "Number of data points saved: 3000000 10 times\n",
      "Init time:            0.08605580000000046 s\n",
      "Data generation time: 5.719024899999997 s\n",
      "Data saving time:     0.9680663000000109 s\n",
      "Total time:           6.7731612000000005 s\n"
     ]
    }
   ],
   "source": [
    "run_experiment(1000, 10, use_threads=True)"
   ]
  },
  {
   "cell_type": "code",
   "execution_count": null,
   "metadata": {},
   "outputs": [],
   "source": []
  }
 ],
 "metadata": {
  "kernelspec": {
   "display_name": "Python 3",
   "language": "python",
   "name": "python3"
  },
  "language_info": {
   "codemirror_mode": {
    "name": "ipython",
    "version": 3
   },
   "file_extension": ".py",
   "mimetype": "text/x-python",
   "name": "python",
   "nbconvert_exporter": "python",
   "pygments_lexer": "ipython3",
   "version": "3.7.4"
  }
 },
 "nbformat": 4,
 "nbformat_minor": 2
}
