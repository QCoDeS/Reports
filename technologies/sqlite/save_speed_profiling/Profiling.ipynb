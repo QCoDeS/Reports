{
 "cells": [
  {
   "cell_type": "markdown",
   "metadata": {},
   "source": [
    "# Profiling the save speed\n",
    "\n",
    "## Operation under investigation\n",
    "\n",
    "We save a big numpy array in one go into a fresh DB file."
   ]
  },
  {
   "cell_type": "markdown",
   "metadata": {},
   "source": [
    "## System information"
   ]
  },
  {
   "cell_type": "code",
   "execution_count": 1,
   "metadata": {},
   "outputs": [
    {
     "name": "stdout",
     "output_type": "stream",
     "text": [
      "Logging hadn't been started.\n",
      "Activating auto-logging. Current session state plus future input saved.\n",
      "Filename       : C:\\Users\\wihpniel\\.qcodes\\logs\\command_history.log\n",
      "Mode           : append\n",
      "Output logging : True\n",
      "Raw input log  : False\n",
      "Timestamping   : True\n",
      "State          : active\n",
      "Qcodes Logfile : C:\\Users\\wihpniel\\.qcodes\\logs\\200109-12544-qcodes.log\n",
      "QCoDeS version: 0.9.0rc1+56.g9648416db\n"
     ]
    }
   ],
   "source": [
    "import qcodes\n",
    "from qcodes.utils import installation_info as ii\n",
    "\n",
    "ver = ii.get_qcodes_version()\n",
    "print(f'QCoDeS version: {ver}')"
   ]
  },
  {
   "cell_type": "code",
   "execution_count": 2,
   "metadata": {},
   "outputs": [
    {
     "data": {
      "text/plain": [
       "'0.9.0rc1+56.g9648416db'"
      ]
     },
     "execution_count": 2,
     "metadata": {},
     "output_type": "execute_result"
    }
   ],
   "source": [
    "ii.get_qcodes_version()"
   ]
  },
  {
   "cell_type": "markdown",
   "metadata": {},
   "source": [
    "# Experiment"
   ]
  },
  {
   "cell_type": "code",
   "execution_count": 3,
   "metadata": {},
   "outputs": [],
   "source": [
    "import tempfile\n",
    "import time\n",
    "\n",
    "import numpy as np\n",
    "\n",
    "from qcodes.dataset.measurements import Measurement\n",
    "from qcodes.dataset.experiment_container import new_experiment\n",
    "from qcodes.dataset.sqlite.database import initialise_or_create_database_at\n"
   ]
  },
  {
   "cell_type": "code",
   "execution_count": 4,
   "metadata": {},
   "outputs": [],
   "source": [
    "def run_experiment(n):\n",
    "    \"\"\"\n",
    "    Run the experiment with 3*n^2 data points to be saved\n",
    "    \"\"\"\n",
    "\n",
    "    with tempfile.TemporaryFile() as dbfile:\n",
    "        dbfile.name += '.db'\n",
    "        print(dbfile.name)\n",
    "        initialise_or_create_database_at(dbfile.name)\n",
    "        new_experiment('profiling', 'no_sample')\n",
    "\n",
    "\n",
    "\n",
    "        meas = (Measurement()\n",
    "                .register_custom_parameter('X', paramtype='array')\n",
    "                .register_custom_parameter('Y', paramtype='array')\n",
    "                .register_custom_parameter('Z', paramtype='array', setpoints=['X', 'Y']))\n",
    "\n",
    "        t0 = time.perf_counter()\n",
    "\n",
    "        with meas.run() as datasaver:\n",
    "            t1 = time.perf_counter()\n",
    "\n",
    "            xdata, ydata = np.meshgrid(np.random.rand(n), np.random.rand(n))\n",
    "            zdata = np.random.randn(*xdata.shape)\n",
    "\n",
    "            t2 = time.perf_counter()\n",
    "            datasaver.add_result(('X', xdata), ('Y', ydata), ('Z', zdata))\n",
    "        t3 = time.perf_counter()\n",
    "\n",
    "    print('Report:')\n",
    "    print(f'Number of data points saved: {3*n**2}')\n",
    "    print(f'Init time:            {t1-t0} s')\n",
    "    print(f'Data generation time: {t2-t0} s')\n",
    "    print(f'Data saving time:     {t3-t2} s')\n",
    "    print(f'Total time:           {t3-t0} s')"
   ]
  },
  {
   "cell_type": "code",
   "execution_count": 5,
   "metadata": {},
   "outputs": [
    {
     "name": "stdout",
     "output_type": "stream",
     "text": [
      "C:\\Users\\wihpniel\\AppData\\Local\\Temp\\tmpsy6f3mv7.db\n",
      "Upgrading database; v0 -> v1: : 0it [00:00, ?it/s]\n",
      "Upgrading database; v1 -> v2: 100%|██████████| 1/1 [00:00<00:00, 249.72it/s]\n",
      "Upgrading database; v2 -> v3: : 0it [00:00, ?it/s]\n",
      "Upgrading database; v3 -> v4: : 0it [00:00, ?it/s]\n",
      "Upgrading database; v4 -> v5: 100%|██████████| 1/1 [00:00<00:00, 143.13it/s]\n",
      "Upgrading database; v5 -> v6: : 0it [00:00, ?it/s]\n",
      "Upgrading database; v6 -> v7: 100%|██████████| 1/1 [00:00<00:00, 47.62it/s]\n",
      "Upgrading database; v7 -> v8: 100%|██████████| 1/1 [00:00<00:00, 249.75it/s]\n",
      "Starting experimental run with id: 1. \n",
      "Report:\n",
      "Number of data points saved: 3000000\n",
      "Init time:            0.06022890000000025 s\n",
      "Data generation time: 0.09992409999999996 s\n",
      "Data saving time:     0.40096440000000033 s\n",
      "Total time:           0.5008885000000003 s\n",
      " "
     ]
    }
   ],
   "source": [
    "profile = %prun -r -s time -q datprof = run_experiment(1000)"
   ]
  },
  {
   "cell_type": "code",
   "execution_count": 6,
   "metadata": {},
   "outputs": [
    {
     "data": {
      "text/plain": [
       "<pstats.Stats at 0x2d0762a5f48>"
      ]
     },
     "execution_count": 6,
     "metadata": {},
     "output_type": "execute_result"
    }
   ],
   "source": [
    "profile"
   ]
  },
  {
   "cell_type": "code",
   "execution_count": 7,
   "metadata": {},
   "outputs": [
    {
     "name": "stdout",
     "output_type": "stream",
     "text": [
      "         54474 function calls (51030 primitive calls) in 0.904 seconds\n",
      "\n",
      "   Ordered by: internal time\n",
      "   List reduced from 816 to 10 due to restriction <10>\n",
      "\n",
      "   ncalls  tottime  percall  cumtime  percall filename:lineno(function)\n",
      "       62    0.506    0.008    0.506    0.008 {method 'commit' of 'sqlite3.Connection' objects}\n",
      "      179    0.156    0.001    0.195    0.001 {method 'execute' of 'sqlite3.Cursor' objects}\n",
      "      610    0.045    0.000    0.045    0.000 {method 'acquire' of '_thread.lock' objects}\n",
      "        1    0.031    0.031    0.031    0.031 {method 'randn' of 'mtrand.RandomState' objects}\n",
      "       15    0.015    0.001    0.015    0.001 {built-in method numpy.array}\n",
      "        1    0.013    0.013    0.363    0.363 database.py:200(initialise_database)\n",
      "        9    0.012    0.001    0.012    0.001 {method 'write' of '_io.BytesIO' objects}\n",
      "        3    0.012    0.004    0.012    0.004 {method 'tobytes' of 'numpy.ndarray' objects}\n",
      "        3    0.011    0.004    0.011    0.004 {method 'read' of '_io.BytesIO' objects}\n",
      "      216    0.009    0.000    0.009    0.000 socket.py:342(send)\n",
      "\n",
      "\n"
     ]
    },
    {
     "data": {
      "text/plain": [
       "<pstats.Stats at 0x2d0762a5f48>"
      ]
     },
     "execution_count": 7,
     "metadata": {},
     "output_type": "execute_result"
    }
   ],
   "source": [
    "import pstats\n",
    "from pstats import SortKey\n",
    "p = profile\n",
    "p.sort_stats(SortKey.TIME).print_stats(10)\n"
   ]
  },
  {
   "cell_type": "code",
   "execution_count": null,
   "metadata": {},
   "outputs": [],
   "source": []
  }
 ],
 "metadata": {
  "kernelspec": {
   "display_name": "Python 3",
   "language": "python",
   "name": "python3"
  },
  "language_info": {
   "codemirror_mode": {
    "name": "ipython",
    "version": 3
   },
   "file_extension": ".py",
   "mimetype": "text/x-python",
   "name": "python",
   "nbconvert_exporter": "python",
   "pygments_lexer": "ipython3",
   "version": "3.7.4"
  }
 },
 "nbformat": 4,
 "nbformat_minor": 2
}
