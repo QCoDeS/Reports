{
 "cells": [
  {
   "cell_type": "markdown",
   "metadata": {},
   "source": [
    "# Compare data saving and loading performance of QCoDeS SQLite backend vs HDF5 (h5py) and numpy npy files\n",
    "\n",
    "This notebook measures time it takes to save and load measurement data using qcodes dataset versus other ways of storing data, hdf5 and numpy npy files. The reason for such a study is that qcodes users should not be limited in the performance of the their experiments by the performance of data saving (and loading).\n",
    "\n",
    "HDF5 and numpy npy storage solutions are not only widely used in the scientific community, but are also known for their efficiency."
   ]
  },
  {
   "cell_type": "markdown",
   "metadata": {},
   "source": [
    "### Imports"
   ]
  },
  {
   "cell_type": "code",
   "execution_count": 1,
   "metadata": {},
   "outputs": [],
   "source": [
    "import time\n",
    "import os\n",
    "from tempfile import TemporaryFile\n",
    "import timeit\n",
    "\n",
    "import numpy\n",
    "import h5py\n",
    "from git import Repo\n",
    "from IPython.core.magics.execution import TimeitResult\n",
    "\n",
    "import qcodes\n",
    "from qcodes import (\n",
    "    initialise_or_create_database_at, load_or_create_experiment, \n",
    "    Measurement, Parameter,\n",
    "    load_by_id\n",
    ")\n",
    "from qcodes.dataset.data_export import get_data_by_id"
   ]
  },
  {
   "cell_type": "markdown",
   "metadata": {},
   "source": [
    "### Relevant environment information"
   ]
  },
  {
   "cell_type": "code",
   "execution_count": 2,
   "metadata": {},
   "outputs": [
    {
     "data": {
      "text/plain": [
       "'0.1.11'"
      ]
     },
     "execution_count": 2,
     "metadata": {},
     "output_type": "execute_result"
    }
   ],
   "source": [
    "qcodes.version.__version__"
   ]
  },
  {
   "cell_type": "code",
   "execution_count": 3,
   "metadata": {},
   "outputs": [
    {
     "name": "stdout",
     "output_type": "stream",
     "text": [
      "8979f3bed18ff3c6d9657977efed0ce3744135c5\n"
     ]
    }
   ],
   "source": [
    "# in case the qcodes is installed from local git repository\n",
    "qcodes_repo_path = os.sep.join(qcodes.__path__[0].split(os.sep)[:-1])\n",
    "qcodes_repo = Repo(qcodes_repo_path)\n",
    "print(qcodes_repo.head.commit)"
   ]
  },
  {
   "cell_type": "code",
   "execution_count": 4,
   "metadata": {},
   "outputs": [
    {
     "name": "stdout",
     "output_type": "stream",
     "text": [
      "Summary of the h5py configuration\n",
      "---------------------------------\n",
      "\n",
      "h5py    2.8.0\n",
      "HDF5    1.10.2\n",
      "Python  3.6.6 |Anaconda, Inc.| (default, Jun 28 2018, 11:27:44) [MSC v.1900 64 bit (AMD64)]\n",
      "sys.platform    win32\n",
      "sys.maxsize     9223372036854775807\n",
      "numpy   1.15.2\n",
      "\n"
     ]
    }
   ],
   "source": [
    "print(h5py.version.info)"
   ]
  },
  {
   "cell_type": "markdown",
   "metadata": {},
   "source": [
    "# Simulated measurement\n",
    "\n",
    "For this study, we are going to take the case of sweeping 2 independent parameters (s1, s2) and measuring 2 dependent parameters (magnitude and phase). For simplicity, the number of datapoints per parameter is the same, and it is set in a variable. We are going to use the same generator function throughout the study for generating dummy data that we will be saving and loading."
   ]
  },
  {
   "cell_type": "code",
   "execution_count": 5,
   "metadata": {},
   "outputs": [],
   "source": [
    "# number of data points per parameter\n",
    "n_pts_per_param = 20"
   ]
  },
  {
   "cell_type": "code",
   "execution_count": 6,
   "metadata": {},
   "outputs": [],
   "source": [
    "def produce_measurement_data(n_pts_per_param):\n",
    "    \"\"\"\n",
    "    This iterator represents the code that obtains\n",
    "    measurement data. For the sake of example, it\n",
    "    just returns random dummy data: 4 parameters/dimensions, \n",
    "    `n_pts_per_param` per each dimension (which becomes\n",
    "    `n_pts_per_param**4` data points in total).\n",
    "    \n",
    "    Args:\n",
    "        n_pts_per_param\n",
    "            number of points per each parameter/dimension\n",
    "    \n",
    "    Returns:\n",
    "        tuple of values of the 4 dimensions obtained\n",
    "        at a single \"measurement\" iteration\n",
    "    \"\"\"\n",
    "    for s1_val in range(n_pts_per_param):\n",
    "        for s2_val in range(n_pts_per_param):\n",
    "            magn_vals, phas_vals = np.meshgrid(\n",
    "                np.random.rand(n_pts_per_param),\n",
    "                np.random.rand(n_pts_per_param),\n",
    "            )\n",
    "            magn_vals = np.reshape(magn_vals, -1)\n",
    "            phas_vals = np.reshape(phas_vals, -1)\n",
    "            \n",
    "            yield s1_val, s2_val, magn_vals, phas_vals"
   ]
  },
  {
   "cell_type": "markdown",
   "metadata": {},
   "source": [
    "# Test routines\n",
    "\n",
    "Now lets define all the test routines for saving and loading data for testing the performance of different backends."
   ]
  },
  {
   "cell_type": "markdown",
   "metadata": {},
   "source": [
    "## Base class\n",
    "\n",
    "???\n",
    "\n",
    "we'll be using custom timeit-like thingy, because timeit does not allow the flexibility of placing the moments in the code where we want to record the time stamps."
   ]
  },
  {
   "cell_type": "code",
   "execution_count": 87,
   "metadata": {},
   "outputs": [],
   "source": [
    "def time_it(number=None,\n",
    "            repeat=timeit.default_repeat):\n",
    "    def time_sut(sut):\n",
    "        def wrapper(*args, **kwargs):\n",
    "            \n",
    "            t = timeit.Timer()\n",
    "\n",
    "            def inner(_it, _timer):\n",
    "                total_time = 0\n",
    "                \n",
    "                for _ in _it:\n",
    "                    returns = sut(*args, **kwargs)\n",
    "                    \n",
    "                    if isinstance(returns, tuple):\n",
    "                        returns = returns[0]\n",
    "                        \n",
    "                    total_time += returns\n",
    "                \n",
    "                return total_time\n",
    "            \n",
    "            t.inner = inner\n",
    "\n",
    "            try:\n",
    "                if number is None:\n",
    "                    number_, _ = t.autorange()\n",
    "                else:\n",
    "                    number_ = number\n",
    "                \n",
    "                all_runs = t.repeat(repeat, number_)\n",
    "            except:\n",
    "                t.print_exc()\n",
    "                raise\n",
    "\n",
    "            best = min(all_runs) / number_\n",
    "            worst = max(all_runs) / number_\n",
    "            print(TimeitResult(number_, repeat, best, worst, all_runs, 0, 3))\n",
    "        return wrapper\n",
    "    return time_sut"
   ]
  },
  {
   "cell_type": "markdown",
   "metadata": {},
   "source": [
    "## QCoDeS dataset"
   ]
  },
  {
   "cell_type": "markdown",
   "metadata": {},
   "source": [
    "First, we need to initialize a database file."
   ]
  },
  {
   "cell_type": "code",
   "execution_count": 7,
   "metadata": {},
   "outputs": [
    {
     "data": {
      "text/plain": [
       "save_load_speed_study#sqlite3_from_qcodes#1@C:\\Users\\a-miasta\\AppData\\Local\\Temp\\tmptuva4aob.db\n",
       "-----------------------------------------------------------------------------------------------"
      ]
     },
     "execution_count": 7,
     "metadata": {},
     "output_type": "execute_result"
    }
   ],
   "source": [
    "# initialize the database file for qcodes dataset\n",
    "\n",
    "temp_db_file = TemporaryFile(suffix='.db')\n",
    "temp_db_file.close()\n",
    "\n",
    "initialise_or_create_database_at(temp_db_file.name)\n",
    "\n",
    "load_or_create_experiment('save_load_speed_study', 'sqlite3_from_qcodes')"
   ]
  },
  {
   "cell_type": "markdown",
   "metadata": {},
   "source": [
    "Next, we define a convenient function that performs all the usual steps that are necessary for a qcodes measurement and data saving. This function's main purpose is to measure the time it takes to save the data."
   ]
  },
  {
   "cell_type": "code",
   "execution_count": 8,
   "metadata": {},
   "outputs": [],
   "source": [
    "# @time_it(number=4, repeat=2)\n",
    "def save_to_sqlite(data_generator, paramtype='numeric'):\n",
    "    \"\"\"\n",
    "    Use qcodes dataset with its sqlite backend to save dummy\n",
    "    data, and measure the time this takes. The data that is being\n",
    "    saved is 2 dependent and 2 independent parameters. The data\n",
    "    for the measurement is generated by the `data_generator`\n",
    "    iterator function.\n",
    "    \n",
    "    Args:\n",
    "        data_generator\n",
    "            iterator that returns dummy data for 4 parameters\n",
    "        paramtype\n",
    "            controls the way data the 2 dependent parameters are stored\n",
    "            in the sqlite database,\n",
    "            see `Measurement.register_parameter` for more information\n",
    "            (useful values in the context of this notebook are 'numeric'\n",
    "            and 'array')\n",
    "    \n",
    "    Returns:\n",
    "        saving_time\n",
    "            measured time it took to save the data, in seconds\n",
    "        dataset\n",
    "            the qcodes dataset object where the data was saved to;\n",
    "            it is useful for accessing the data and measuring the\n",
    "            time it takes to load it\n",
    "    \"\"\"\n",
    "    # define parameters\n",
    "    s1 = Parameter('s1', label='Setting 1', unit='V', get_cmd=None, set_cmd=None)\n",
    "    s2 = Parameter('s2', label='Setting 2', unit='V', get_cmd=None, set_cmd=None)\n",
    "    magn = Parameter('magn', label='Magnitude', unit='V', get_cmd=None, set_cmd=None)\n",
    "    phas = Parameter('phas', label='Phase', unit='deg', get_cmd=None, set_cmd=None)\n",
    "    \n",
    "    meas = Measurement()\n",
    "    \n",
    "    # register parameters in the measurement object\n",
    "    meas.register_parameter(s1)\n",
    "    meas.register_parameter(s2)\n",
    "    meas.register_parameter(magn, setpoints=(s1, s2), paramtype=paramtype)\n",
    "    meas.register_parameter(phas, setpoints=(s1, s2), paramtype=paramtype)\n",
    "    \n",
    "    # set the write period to a large value, so that actual writing\n",
    "    # to the database happens at the end of the \"measurement\"\n",
    "    meas.write_period = 10\n",
    "    \n",
    "    # perform the measurement\n",
    "    with meas.run() as datasaver:\n",
    "        t0 = time.perf_counter()  # <-----\n",
    "\n",
    "        for s1_val, s2_val, magn_vals, phas_vals \\\n",
    "                in data_generator:\n",
    "            \n",
    "            datasaver.add_result((s1, s1_val), \n",
    "                                 (s2, s2_val),\n",
    "                                 (magn, magn_vals),\n",
    "                                 (phas, phas_vals))\n",
    "    \n",
    "    t1 = time.perf_counter()  # <-----\n",
    "    saving_time = t1 - t0\n",
    "    \n",
    "    dataset = datasaver.dataset\n",
    "    \n",
    "    return saving_time, dataset"
   ]
  },
  {
   "cell_type": "markdown",
   "metadata": {},
   "source": [
    "## Via QCoDeS DataSet"
   ]
  },
  {
   "cell_type": "code",
   "execution_count": 9,
   "metadata": {},
   "outputs": [
    {
     "name": "stdout",
     "output_type": "stream",
     "text": [
      "Starting experimental run with id: 1\n",
      "Starting experimental run with id: 2\n",
      "Starting experimental run with id: 3\n",
      "Starting experimental run with id: 4\n",
      "Starting experimental run with id: 5\n",
      "Starting experimental run with id: 6\n",
      "3.92 s ± 74.4 ms per loop (mean ± std. dev. of 2 runs, 3 loops each)\n"
     ]
    }
   ],
   "source": [
    "number = 3\n",
    "repeat = 2\n",
    "\n",
    "t = timeit.Timer()\n",
    "\n",
    "def inner(_it, _timer):\n",
    "    total_time = 0\n",
    "\n",
    "    for _ in _it:\n",
    "        returns = save_to_sqlite(\n",
    "            produce_measurement_data(n_pts_per_param),\n",
    "            paramtype='numeric')\n",
    "\n",
    "        if isinstance(returns, tuple):\n",
    "            returns = returns[0]\n",
    "\n",
    "        total_time += returns\n",
    "\n",
    "    return total_time\n",
    "\n",
    "t.inner = inner\n",
    "\n",
    "try:\n",
    "    if number is None:\n",
    "        number_, _ = t.autorange()\n",
    "    else:\n",
    "        number_ = number\n",
    "\n",
    "    all_runs = t.repeat(repeat, number_)\n",
    "except:\n",
    "    t.print_exc()\n",
    "    raise\n",
    "\n",
    "best = min(all_runs) / number_\n",
    "worst = max(all_runs) / number_\n",
    "print(TimeitResult(number_, repeat, best, worst, all_runs, 0, 3))"
   ]
  },
  {
   "cell_type": "markdown",
   "metadata": {},
   "source": [
    "### with 'numeric' type"
   ]
  },
  {
   "cell_type": "code",
   "execution_count": 89,
   "metadata": {
    "code_folding": [],
    "scrolled": false
   },
   "outputs": [
    {
     "name": "stdout",
     "output_type": "stream",
     "text": [
      "Starting experimental run with id: 68\n",
      "inner: None: (3.775037899999006, results #68@C:\\Users\\a-miasta\\AppData\\Local\\Temp\\tmpwy9lzac8.db\n",
      "---------------------------------------------------------------\n",
      "s1 - numeric\n",
      "s2 - numeric\n",
      "magn - numeric\n",
      "phas - numeric)\n",
      "Starting experimental run with id: 69\n",
      "inner: None: (0.018814400000337628, results #69@C:\\Users\\a-miasta\\AppData\\Local\\Temp\\tmpwy9lzac8.db\n",
      "---------------------------------------------------------------\n",
      "s1 - numeric\n",
      "s2 - numeric\n",
      "magn - numeric\n",
      "phas - numeric)\n",
      "Starting experimental run with id: 70\n",
      "inner: None: (0.016228399999818066, results #70@C:\\Users\\a-miasta\\AppData\\Local\\Temp\\tmpwy9lzac8.db\n",
      "---------------------------------------------------------------\n",
      "s1 - numeric\n",
      "s2 - numeric\n",
      "magn - numeric\n",
      "phas - numeric)\n",
      "Starting experimental run with id: 71\n",
      "inner: None: (0.017815300001529977, results #71@C:\\Users\\a-miasta\\AppData\\Local\\Temp\\tmpwy9lzac8.db\n",
      "---------------------------------------------------------------\n",
      "s1 - numeric\n",
      "s2 - numeric\n",
      "magn - numeric\n",
      "phas - numeric)\n",
      "total: 3.827896000000692\n",
      "Starting experimental run with id: 72\n",
      "inner: None: (0.01743680000072345, results #72@C:\\Users\\a-miasta\\AppData\\Local\\Temp\\tmpwy9lzac8.db\n",
      "---------------------------------------------------------------\n",
      "s1 - numeric\n",
      "s2 - numeric\n",
      "magn - numeric\n",
      "phas - numeric)\n",
      "Starting experimental run with id: 73\n",
      "inner: None: (0.016978700001345715, results #73@C:\\Users\\a-miasta\\AppData\\Local\\Temp\\tmpwy9lzac8.db\n",
      "---------------------------------------------------------------\n",
      "s1 - numeric\n",
      "s2 - numeric\n",
      "magn - numeric\n",
      "phas - numeric)\n",
      "Starting experimental run with id: 74\n",
      "inner: None: (0.018241100000523147, results #74@C:\\Users\\a-miasta\\AppData\\Local\\Temp\\tmpwy9lzac8.db\n",
      "---------------------------------------------------------------\n",
      "s1 - numeric\n",
      "s2 - numeric\n",
      "magn - numeric\n",
      "phas - numeric)\n",
      "Starting experimental run with id: 75\n",
      "inner: None: (0.01762379999854602, results #75@C:\\Users\\a-miasta\\AppData\\Local\\Temp\\tmpwy9lzac8.db\n",
      "---------------------------------------------------------------\n",
      "s1 - numeric\n",
      "s2 - numeric\n",
      "magn - numeric\n",
      "phas - numeric)\n",
      "total: 0.07028040000113833\n",
      "487 ms ± 470 ms per loop (mean ± std. dev. of 2 runs, 4 loops each)\n"
     ]
    }
   ],
   "source": [
    "save_to_sqlite(\n",
    "    produce_measurement_data(n_pts_per_param),\n",
    "    paramtype='numeric')"
   ]
  },
  {
   "cell_type": "code",
   "execution_count": null,
   "metadata": {},
   "outputs": [],
   "source": [
    "print(\"Data saving to dataset with 'numeric' paramtype took:\")\n",
    "\n",
    "    "
   ]
  },
  {
   "cell_type": "code",
   "execution_count": 11,
   "metadata": {},
   "outputs": [
    {
     "name": "stdout",
     "output_type": "stream",
     "text": [
      "2.54 s ± 64.9 ms per loop (mean ± std. dev. of 7 runs, 1 loop each)\n"
     ]
    }
   ],
   "source": [
    "%%timeit\n",
    "\n",
    "# returns list of rows, as in sqlite (each row is a list where every item corresponds to the column)\n",
    "# data = dataset.get_data(*datasaver.dataset.parameters.split(','))\n",
    "#\n",
    "# another way is to use get_values and obtain values of each parameter one by one;\n",
    "# but get_data_by_id uses it already, so let's not repeat it\n",
    "# data = dataset.get_values\n",
    "\n",
    "data = dataset.get_data(*dataset.parameters.split(','))"
   ]
  },
  {
   "cell_type": "code",
   "execution_count": 12,
   "metadata": {},
   "outputs": [
    {
     "name": "stdout",
     "output_type": "stream",
     "text": [
      "5.84 s ± 322 ms per loop (mean ± std. dev. of 7 runs, 1 loop each)\n"
     ]
    }
   ],
   "source": [
    "%%timeit\n",
    "\n",
    "# returns list of lists of dicts with data and metadata;\n",
    "# the first list contains elements for each dependent parameter;\n",
    "# second list contains all the independent parameters, \n",
    "# and the last element is the dependent parameter\n",
    "\n",
    "data = get_data_by_id(datasaver.dataset.run_id)"
   ]
  },
  {
   "cell_type": "markdown",
   "metadata": {},
   "source": [
    "### with 'array' type"
   ]
  },
  {
   "cell_type": "code",
   "execution_count": 13,
   "metadata": {},
   "outputs": [],
   "source": [
    "meas = Measurement()\n",
    "\n",
    "meas.register_parameter(s1)\n",
    "meas.register_parameter(s2)\n",
    "meas.register_parameter(magn, setpoints=(s1, s2), paramtype='array')\n",
    "meas.register_parameter(phas, setpoints=(s1, s2), paramtype='array')"
   ]
  },
  {
   "cell_type": "code",
   "execution_count": 14,
   "metadata": {},
   "outputs": [],
   "source": [
    "meas.write_period = 10"
   ]
  },
  {
   "cell_type": "code",
   "execution_count": 15,
   "metadata": {
    "code_folding": []
   },
   "outputs": [
    {
     "name": "stdout",
     "output_type": "stream",
     "text": [
      "Starting experimental run with id: 3\n",
      "Data saving to dataset with 'array' paramtype took 0.2915894999999864 s\n"
     ]
    }
   ],
   "source": [
    "# %%timeit\n",
    "\n",
    "with meas.run() as datasaver:\n",
    "    \n",
    "    t0_dataset_array = time.perf_counter()\n",
    "    \n",
    "    for s1_val, s2_val, magn_vals, phas_vals in produce_measurement_data(n_pts_in_dim):\n",
    "        \n",
    "        datasaver.add_result((s1, s1_val), (s2, s2_val), (magn, magn_vals),\n",
    "                             (phas, phas_vals))\n",
    "    \n",
    "t1_dataset_array = time.perf_counter()\n",
    "print(f\"Data saving to dataset with 'array' paramtype took {t1_dataset_array-t0_dataset_array} s\")\n",
    "\n",
    "dataset = datasaver.dataset"
   ]
  },
  {
   "cell_type": "code",
   "execution_count": 16,
   "metadata": {},
   "outputs": [
    {
     "name": "stdout",
     "output_type": "stream",
     "text": [
      "291 ms ± 45.1 ms per loop (mean ± std. dev. of 7 runs, 1 loop each)\n"
     ]
    }
   ],
   "source": [
    "%%timeit\n",
    "\n",
    "# returns list of rows, as in sqlite (each row is a list where every item corresponds to the column)\n",
    "\n",
    "data = dataset.get_data(*dataset.parameters.split(','))"
   ]
  },
  {
   "cell_type": "code",
   "execution_count": 17,
   "metadata": {},
   "outputs": [
    {
     "name": "stdout",
     "output_type": "stream",
     "text": [
      "333 ms ± 5.46 ms per loop (mean ± std. dev. of 7 runs, 1 loop each)\n"
     ]
    }
   ],
   "source": [
    "%%timeit\n",
    "\n",
    "# returns list of lists of dicts with data and metadata;\n",
    "# the first list contains elements for each dependent parameter;\n",
    "# second list contains all the independent parameters, \n",
    "# and the last element is the dependent parameter\n",
    "# data = get_data_by_id(datasaver.dataset.run_id)\n",
    "\n",
    "data = get_data_by_id(dataset.run_id)"
   ]
  },
  {
   "cell_type": "markdown",
   "metadata": {},
   "source": [
    "## Via numpy npy file"
   ]
  },
  {
   "cell_type": "code",
   "execution_count": 18,
   "metadata": {
    "scrolled": false
   },
   "outputs": [
    {
     "name": "stdout",
     "output_type": "stream",
     "text": [
      "Data saving to numpy npy file took 0.05394800000004807 s\n"
     ]
    }
   ],
   "source": [
    "# %%timeit\n",
    "\n",
    "outfile = TemporaryFile()\n",
    "outfile.close()\n",
    "\n",
    "t0_npy = time.perf_counter()\n",
    "\n",
    "results_np = np.zeros((4, n_pts_in_dim**4))\n",
    "last_index = 0\n",
    "\n",
    "for s1_val, s2_val, magn_vals, phas_vals in produce_measurement_data(n_pts_in_dim):\n",
    "    \n",
    "    n_pts = len(magn_vals)\n",
    "\n",
    "    results_np[0, last_index:last_index+n_pts] = s1_val\n",
    "    results_np[1, last_index:last_index+n_pts] = s2_val\n",
    "    results_np[2, last_index:last_index+n_pts] = magn_vals\n",
    "    results_np[3, last_index:last_index+n_pts] = phas_vals\n",
    "\n",
    "    last_index += n_pts\n",
    "            \n",
    "np.save(outfile.name, results_np)\n",
    "\n",
    "t1_npy = time.perf_counter()\n",
    "print(f\"Data saving to numpy npy file took {t1_npy-t0_npy} s\")"
   ]
  },
  {
   "cell_type": "code",
   "execution_count": 19,
   "metadata": {},
   "outputs": [
    {
     "name": "stdout",
     "output_type": "stream",
     "text": [
      "5.21 ms ± 610 µs per loop (mean ± std. dev. of 7 runs, 100 loops each)\n"
     ]
    }
   ],
   "source": [
    "%%timeit\n",
    "data = np.load(outfile.name+'.npy')"
   ]
  },
  {
   "cell_type": "markdown",
   "metadata": {},
   "source": [
    "## Via numpy npy file and memmap"
   ]
  },
  {
   "cell_type": "code",
   "execution_count": 20,
   "metadata": {},
   "outputs": [
    {
     "name": "stdout",
     "output_type": "stream",
     "text": [
      "Data saving to numpy npy file via memory map took 0.06339409999998225 s\n"
     ]
    }
   ],
   "source": [
    "# %%timeit\n",
    "\n",
    "outfile = TemporaryFile()\n",
    "outfile.close()\n",
    "\n",
    "t0_npy_mm = time.perf_counter()\n",
    "\n",
    "results_mm = np.lib.format.open_memmap(\n",
    "    outfile.name, mode='w+', shape=(4, n_pts_in_dim**4))\n",
    "\n",
    "last_index = 0\n",
    "\n",
    "for s1_val, s2_val, magn_vals, phas_vals in produce_measurement_data(n_pts_in_dim):\n",
    "    \n",
    "    n_pts = len(magn_vals)\n",
    "\n",
    "    results_mm[0, last_index:last_index+n_pts] = s1_val\n",
    "    results_mm[1, last_index:last_index+n_pts] = s2_val\n",
    "    results_mm[2, last_index:last_index+n_pts] = magn_vals\n",
    "    results_mm[3, last_index:last_index+n_pts] = phas_vals\n",
    "\n",
    "    last_index += n_pts\n",
    "            \n",
    "del results_mm  # closes the file and performs final flushing\n",
    "\n",
    "t1_npy_mm = time.perf_counter()\n",
    "print(f\"Data saving to numpy npy file via memory map took {t1_npy_mm-t0_npy_mm} s\")"
   ]
  },
  {
   "cell_type": "code",
   "execution_count": 21,
   "metadata": {},
   "outputs": [
    {
     "name": "stdout",
     "output_type": "stream",
     "text": [
      "5.04 ms ± 557 µs per loop (mean ± std. dev. of 7 runs, 100 loops each)\n"
     ]
    }
   ],
   "source": [
    "%%timeit\n",
    "data = np.load(outfile.name)"
   ]
  },
  {
   "cell_type": "markdown",
   "metadata": {},
   "source": [
    "## Via hdf5 file (directly to the file)"
   ]
  },
  {
   "cell_type": "code",
   "execution_count": 22,
   "metadata": {
    "scrolled": true
   },
   "outputs": [
    {
     "name": "stdout",
     "output_type": "stream",
     "text": [
      "Data saving to hdf5 file took 0.4450757999999837 s\n"
     ]
    }
   ],
   "source": [
    "# %%timeit\n",
    "\n",
    "outfile = TemporaryFile()\n",
    "outfile.close()\n",
    "\n",
    "t0_hdf5_2 = time.perf_counter()\n",
    "\n",
    "last_index = 0\n",
    "\n",
    "with h5py.File(outfile.name, 'w') as f:\n",
    "    ds = f.create_dataset('results', shape=(4, n_pts_in_dim**4))\n",
    "\n",
    "    for s1_val, s2_val, magn_vals, phas_vals in produce_measurement_data(n_pts_in_dim):\n",
    "\n",
    "        n_pts = len(magn_vals)\n",
    "\n",
    "        ds[0, last_index:last_index+n_pts] = s1_val\n",
    "        ds[1, last_index:last_index+n_pts] = s2_val\n",
    "        ds[2, last_index:last_index+n_pts] = magn_vals\n",
    "        ds[3, last_index:last_index+n_pts] = phas_vals\n",
    "\n",
    "        last_index += n_pts    \n",
    "\n",
    "t1_hdf5_2 = time.perf_counter()\n",
    "print(f\"Data saving to hdf5 file took {t1_hdf5_2-t0_hdf5_2} s\")"
   ]
  },
  {
   "cell_type": "code",
   "execution_count": 23,
   "metadata": {},
   "outputs": [
    {
     "name": "stdout",
     "output_type": "stream",
     "text": [
      "5.5 ms ± 725 µs per loop (mean ± std. dev. of 7 runs, 100 loops each)\n"
     ]
    }
   ],
   "source": [
    "%%timeit\n",
    "with h5py.File(outfile.name, 'r') as f:\n",
    "    data = np.array(f['results'], copy=True)"
   ]
  },
  {
   "cell_type": "markdown",
   "metadata": {},
   "source": [
    "## Via hdf5 file (from allocated numpy array)"
   ]
  },
  {
   "cell_type": "code",
   "execution_count": 25,
   "metadata": {},
   "outputs": [
    {
     "name": "stdout",
     "output_type": "stream",
     "text": [
      "Data saving to hdf5 file took 0.05811900000003334 s\n"
     ]
    }
   ],
   "source": [
    "# %%timeit\n",
    "\n",
    "outfile = TemporaryFile()\n",
    "outfile.close()\n",
    "\n",
    "t0_hdf5 = time.perf_counter()\n",
    "\n",
    "results_np = np.zeros((4, n_pts_in_dim**4))\n",
    "last_index = 0\n",
    "\n",
    "for s1_val, s2_val, magn_vals, phas_vals in produce_measurement_data(n_pts_in_dim):\n",
    "            \n",
    "    n_pts = len(magn_vals)\n",
    "\n",
    "    results_np[0, last_index:last_index+n_pts] = s1_val\n",
    "    results_np[1, last_index:last_index+n_pts] = s2_val\n",
    "    results_np[2, last_index:last_index+n_pts] = magn_vals\n",
    "    results_np[3, last_index:last_index+n_pts] = phas_vals\n",
    "\n",
    "    last_index += n_pts\n",
    "            \n",
    "with h5py.File(outfile.name, 'w') as f:\n",
    "    ds = f.create_dataset('results', data=results_np)\n",
    "\n",
    "t1_hdf5 = time.perf_counter()\n",
    "print(f\"Data saving to hdf5 file took {t1_hdf5-t0_hdf5} s\")"
   ]
  },
  {
   "cell_type": "code",
   "execution_count": null,
   "metadata": {},
   "outputs": [],
   "source": []
  }
 ],
 "metadata": {
  "kernelspec": {
   "display_name": "Python [conda env:qcodes]",
   "language": "python",
   "name": "conda-env-qcodes-py"
  },
  "toc": {
   "base_numbering": 1,
   "nav_menu": {},
   "number_sections": true,
   "sideBar": true,
   "skip_h1_title": false,
   "title_cell": "Table of Contents",
   "title_sidebar": "Contents",
   "toc_cell": false,
   "toc_position": {},
   "toc_section_display": true,
   "toc_window_display": true
  },
  "varInspector": {
   "cols": {
    "lenName": 16,
    "lenType": 16,
    "lenVar": 40
   },
   "kernels_config": {
    "python": {
     "delete_cmd_postfix": "",
     "delete_cmd_prefix": "del ",
     "library": "var_list.py",
     "varRefreshCmd": "print(var_dic_list())"
    },
    "r": {
     "delete_cmd_postfix": ") ",
     "delete_cmd_prefix": "rm(",
     "library": "var_list.r",
     "varRefreshCmd": "cat(var_dic_list()) "
    }
   },
   "types_to_exclude": [
    "module",
    "function",
    "builtin_function_or_method",
    "instance",
    "_Feature"
   ],
   "window_display": false
  }
 },
 "nbformat": 4,
 "nbformat_minor": 1
}
