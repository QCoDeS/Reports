{
 "cells": [
  {
   "cell_type": "code",
   "execution_count": 1,
   "id": "fecfbabd",
   "metadata": {},
   "outputs": [
    {
     "name": "stdout",
     "output_type": "stream",
     "text": [
      "Logging hadn't been started.\n",
      "Activating auto-logging. Current session state plus future input saved.\n",
      "Filename       : C:\\Users\\a-davidpoole\\.qcodes\\logs\\command_history.log\n",
      "Mode           : append\n",
      "Output logging : True\n",
      "Raw input log  : False\n",
      "Timestamping   : True\n",
      "State          : active\n",
      "Qcodes Logfile : C:\\Users\\a-davidpoole\\.qcodes\\logs\\211115-1704-qcodes.log\n"
     ]
    }
   ],
   "source": [
    "#Imports\n",
    "\n",
    "import os\n",
    "import time\n",
    "import tqdm\n",
    "import numpy as np\n",
    "import qcodes as qc\n",
    "from qcodes.utils.dataset.doNd import do1d, do2d, dond, plot, LinSweep, LogSweep\n",
    "from qcodes.dataset.descriptions.detect_shapes import detect_shape_of_measurement\n",
    "from qcodes.tests.instrument_mocks import DummyInstrument, DummyInstrumentWithMeasurement\n",
    "\n",
    "\n",
    "from qcodes.dataset import (\n",
    "    load_or_create_experiment,\n",
    "    load_by_guid,\n",
    "    load_by_run_spec,\n",
    "    initialise_or_create_database_at,\n",
    "    Measurement,\n",
    "    DataSetType,\n",
    ")\n",
    "from qcodes.tests.instrument_mocks import (\n",
    "    DummyInstrument,\n",
    "    DummyInstrumentWithMeasurement,\n",
    ")\n",
    "from qcodes.dataset.plotting import plot_dataset\n"
   ]
  },
  {
   "cell_type": "code",
   "execution_count": 2,
   "id": "5dc4bb12",
   "metadata": {},
   "outputs": [],
   "source": [
    "#Set up local database\n",
    "\n",
    "testing_db_path = os.path.join(os.getcwd(), 'local.db')\n",
    "initialise_or_create_database_at(testing_db_path)"
   ]
  },
  {
   "cell_type": "code",
   "execution_count": 3,
   "id": "64cca5d7",
   "metadata": {},
   "outputs": [],
   "source": [
    "\n",
    "# preparatory mocking of physical setup\n",
    "dac = DummyInstrument('dac', gates=['ch1', 'ch2'])\n",
    "dmm = DummyInstrumentWithMeasurement('dmm', setter_instr=dac)\n"
   ]
  },
  {
   "cell_type": "code",
   "execution_count": 4,
   "id": "93b9a581",
   "metadata": {},
   "outputs": [
    {
     "data": {
      "text/plain": [
       "<qcodes.dataset.measurements.Measurement at 0x295aff633d0>"
      ]
     },
     "execution_count": 4,
     "metadata": {},
     "output_type": "execute_result"
    }
   ],
   "source": [
    "\n",
    "# Setting up Measurement\n",
    "testing_exp = load_or_create_experiment('loop_1', sample_name='no sample')\n",
    "\n",
    "#Setting up measuremetn without shape\n",
    "meas = Measurement(name= 'simple meas', exp=testing_exp)\n",
    "meas.register_parameter(dac.ch1)\n",
    "meas.register_parameter(dac.ch2)\n",
    "meas.register_parameter(dmm.v1, setpoints=(dac.ch1,dac.ch2))\n",
    "meas.register_parameter(dmm.v2, setpoints=(dac.ch1,dac.ch2))\n",
    "\n",
    "#Setting Up measurement with shapes\n",
    "meas_with_shape = Measurement(exp=testing_exp, name='shape meas')\n",
    "meas_with_shape.register_parameter(dac.ch1)  # register the first independent parameter\n",
    "meas_with_shape.register_parameter(dac.ch2)  # register the second independent parameter\n",
    "meas_with_shape.register_parameter(dmm.v1, setpoints=(dac.ch1, dac.ch2))  # now register the dependent oone\n",
    "meas_with_shape.register_parameter(dmm.v2, setpoints=(dac.ch1, dac.ch2))  # now register the dependent oone\n",
    "\n"
   ]
  },
  {
   "cell_type": "code",
   "execution_count": 5,
   "id": "72fe8350",
   "metadata": {},
   "outputs": [],
   "source": [
    "#Setting up dataset sizes.\n",
    "size_a = 500\n",
    "size_b = 200\n",
    "size_n = 1"
   ]
  },
  {
   "cell_type": "code",
   "execution_count": 6,
   "id": "1f1c9f0c",
   "metadata": {},
   "outputs": [
    {
     "name": "stderr",
     "output_type": "stream",
     "text": [
      "2021-11-15 18:56:44,721 ¦ py.warnings ¦ WARNING ¦ warnings ¦ _showwarnmsg ¦ 109 ¦ C:\\Users\\A-DAVI~1\\AppData\\Local\\Temp/ipykernel_1704/616408506.py:4: TqdmDeprecationWarning: This function will be removed in tqdm==5.0.0\n",
      "Please use `tqdm.notebook.tqdm` instead of `tqdm.tqdm_notebook`\n",
      "  bar = tqdm.tqdm_notebook(total=size_a*size_b*size_n)\n",
      "\n"
     ]
    },
    {
     "data": {
      "application/vnd.jupyter.widget-view+json": {
       "model_id": "106b08cb98064c1da6a141296f92d918",
       "version_major": 2,
       "version_minor": 0
      },
      "text/plain": [
       "  0%|          | 0/100000 [00:00<?, ?it/s]"
      ]
     },
     "metadata": {},
     "output_type": "display_data"
    },
    {
     "name": "stdout",
     "output_type": "stream",
     "text": [
      "Starting experimental run with id: 7. \n",
      "0.7725711649999891\n"
     ]
    }
   ],
   "source": [
    "#Measurement with context manager with cache\n",
    "t_a = []\n",
    "\n",
    "bar = tqdm.tqdm_notebook(total=size_a*size_b*size_n)\n",
    "\n",
    "for _ in range(size_n):\n",
    "    with meas.run() as datasaver:\n",
    "        for dac1_sweep in np.linspace(-1, 1, size_a): # sweep points over channel 1\n",
    "            dac.ch1(dac1_sweep)\n",
    "            t = []\n",
    "            for dac2_sweep in np.linspace(-1, 1, size_b): # sweep points over channel 2\n",
    "                dac.ch2(dac2_sweep)\n",
    "                t0 = time.perf_counter()\n",
    "                datasaver.add_result(\n",
    "                    (dac.ch1, dac.ch1()),\n",
    "                    (dac.ch2, dac.ch2()),\n",
    "                    (dmm.v1, dmm.v1()),\n",
    "                    (dmm.v2, dmm.v2())\n",
    "                    )\n",
    "                t1 = time.perf_counter()\n",
    "                t.append(t1-t0)\n",
    "                bar.update(1)\n",
    "            t_a.append(sum(t)/len(t)*1000)\n",
    "        dataset2 = datasaver.dataset\n",
    "\n",
    "print(sum(t_a)/len(t_a))"
   ]
  },
  {
   "cell_type": "code",
   "execution_count": 7,
   "id": "1e1f4390",
   "metadata": {
    "scrolled": true
   },
   "outputs": [
    {
     "name": "stderr",
     "output_type": "stream",
     "text": [
      "2021-11-15 18:58:07,143 ¦ py.warnings ¦ WARNING ¦ warnings ¦ _showwarnmsg ¦ 109 ¦ C:\\Users\\A-DAVI~1\\AppData\\Local\\Temp/ipykernel_1704/2853598699.py:4: TqdmDeprecationWarning: This function will be removed in tqdm==5.0.0\n",
      "Please use `tqdm.notebook.tqdm` instead of `tqdm.tqdm_notebook`\n",
      "  bar = tqdm.tqdm_notebook(total=size_a*size_b*size_n)\n",
      "\n"
     ]
    },
    {
     "data": {
      "application/vnd.jupyter.widget-view+json": {
       "model_id": "2276a8060cfc482e8b5a1ffa897d65be",
       "version_major": 2,
       "version_minor": 0
      },
      "text/plain": [
       "  0%|          | 0/100000 [00:00<?, ?it/s]"
      ]
     },
     "metadata": {},
     "output_type": "display_data"
    },
    {
     "name": "stdout",
     "output_type": "stream",
     "text": [
      "Starting experimental run with id: 8. \n",
      "0.22837625199998926\n"
     ]
    }
   ],
   "source": [
    "#Measurement with context manager with shaped cache\n",
    "meas_with_shape.set_shapes(detect_shape_of_measurement((dmm.v1,dmm.v2), (size_a, size_b)))\n",
    "\n",
    "bar = tqdm.tqdm_notebook(total=size_a*size_b*size_n)\n",
    "\n",
    "t_b = []\n",
    "for _ in range(size_n):\n",
    "    with meas_with_shape.run() as datasaver:\n",
    "        for dac1_sweep in np.linspace(-1, 1, size_a): \n",
    "            dac.ch1(dac1_sweep)\n",
    "            t = []\n",
    "            for dac2_sweep in np.linspace(-1, 1, size_b):\n",
    "                dac.ch2(dac2_sweep)\n",
    "                t0 = time.perf_counter()\n",
    "                datasaver.add_result(\n",
    "                    (dac.ch1, dac.ch1()),\n",
    "                    (dac.ch2, dac.ch2()),\n",
    "                    (dmm.v1, dmm.v1()),\n",
    "                    (dmm.v2, dmm.v2())\n",
    "                    )\n",
    "                t1 = time.perf_counter()\n",
    "                t.append(t1-t0)\n",
    "                bar.update(1)\n",
    "            t_b.append(sum(t)/len(t)*1000)\n",
    "        dataset2 = datasaver.dataset\n",
    "print(sum(t_b)/len(t_b))\n"
   ]
  },
  {
   "cell_type": "code",
   "execution_count": 8,
   "id": "d20226f4",
   "metadata": {},
   "outputs": [
    {
     "name": "stderr",
     "output_type": "stream",
     "text": [
      "2021-11-15 18:58:33,123 ¦ py.warnings ¦ WARNING ¦ warnings ¦ _showwarnmsg ¦ 109 ¦ C:\\Users\\A-DAVI~1\\AppData\\Local\\Temp/ipykernel_1704/2863477060.py:3: TqdmDeprecationWarning: This function will be removed in tqdm==5.0.0\n",
      "Please use `tqdm.notebook.tqdm` instead of `tqdm.tqdm_notebook`\n",
      "  bar = tqdm.tqdm_notebook(total=size_a*size_b*size_n)\n",
      "\n"
     ]
    },
    {
     "data": {
      "application/vnd.jupyter.widget-view+json": {
       "model_id": "766eb9270a564fa7a8190f5a376dc7c0",
       "version_major": 2,
       "version_minor": 0
      },
      "text/plain": [
       "  0%|          | 0/100000 [00:00<?, ?it/s]"
      ]
     },
     "metadata": {},
     "output_type": "display_data"
    },
    {
     "name": "stdout",
     "output_type": "stream",
     "text": [
      "Starting experimental run with id: 9. \n",
      "0.1254850570000386\n"
     ]
    }
   ],
   "source": [
    "#Measurement with context manager without cache\n",
    "t_c = []\n",
    "bar = tqdm.tqdm_notebook(total=size_a*size_b*size_n)\n",
    "\n",
    "for _ in range(size_n):\n",
    "    with meas.run(in_memory_cache=False) as datasaver:\n",
    "        for dac1_sweep in np.linspace(-1, 1, size_a): \n",
    "            dac.ch1(dac1_sweep)\n",
    "            t = []\n",
    "            for dac2_sweep in np.linspace(-1, 1, size_b):\n",
    "                dac.ch2(dac2_sweep)\n",
    "                #bar.update(1)\n",
    "                t0 = time.perf_counter()\n",
    "                datasaver.add_result(\n",
    "                    (dac.ch1, dac.ch1()),\n",
    "                    (dac.ch2, dac.ch2()),\n",
    "                    (dmm.v1, dmm.v1()),\n",
    "                    (dmm.v2, dmm.v2())\n",
    "                    )\n",
    "                t1 = time.perf_counter()\n",
    "                t.append(t1-t0)\n",
    "                bar.update(1)\n",
    "            t_c.append(sum(t)/len(t)*1000)\n",
    "        dataset2 = datasaver.dataset\n",
    "\n",
    "print(sum(t_c)/len(t_c))"
   ]
  },
  {
   "cell_type": "code",
   "execution_count": 9,
   "id": "0fa5716a",
   "metadata": {},
   "outputs": [
    {
     "name": "stderr",
     "output_type": "stream",
     "text": [
      "2021-11-15 18:58:48,206 ¦ py.warnings ¦ WARNING ¦ warnings ¦ _showwarnmsg ¦ 109 ¦ C:\\Users\\A-DAVI~1\\AppData\\Local\\Temp/ipykernel_1704/1923311262.py:3: TqdmDeprecationWarning: This function will be removed in tqdm==5.0.0\n",
      "Please use `tqdm.notebook.tqdm` instead of `tqdm.tqdm_notebook`\n",
      "  bar = tqdm.tqdm_notebook(total=size_a*size_b*size_n)\n",
      "\n"
     ]
    },
    {
     "data": {
      "application/vnd.jupyter.widget-view+json": {
       "model_id": "9117a956f74443488f3874a1b7bcd7b8",
       "version_major": 2,
       "version_minor": 0
      },
      "text/plain": [
       "  0%|          | 0/100000 [00:00<?, ?it/s]"
      ]
     },
     "metadata": {},
     "output_type": "display_data"
    },
    {
     "name": "stdout",
     "output_type": "stream",
     "text": [
      "Starting experimental run with id: 10. \n",
      "0.4090112040000139\n"
     ]
    }
   ],
   "source": [
    "#Measurement with context manager with cache, dataset in memory.\n",
    "t_d = []\n",
    "bar = tqdm.tqdm_notebook(total=size_a*size_b*size_n)\n",
    "\n",
    "for _ in range(size_n):\n",
    "    with meas.run(dataset_class=DataSetType.DataSetInMem) as datasaver:\n",
    "        for dac1_sweep in np.linspace(-1, 1, size_a): \n",
    "            dac.ch1(dac1_sweep)\n",
    "            t = []\n",
    "            for dac2_sweep in np.linspace(-1, 1, size_b): \n",
    "                dac.ch2(dac2_sweep)\n",
    "                #bar.update(1)\n",
    "                t0 = time.perf_counter()\n",
    "                datasaver.add_result(\n",
    "                    (dac.ch1, dac.ch1()),\n",
    "                    (dac.ch2, dac.ch2()),\n",
    "                    (dmm.v1, dmm.v1()),\n",
    "                    (dmm.v2, dmm.v2())\n",
    "                    )\n",
    "                t1 = time.perf_counter()\n",
    "                t.append(t1-t0)\n",
    "                bar.update(1)\n",
    "            t_d.append(sum(t)/len(t)*1000)\n",
    "        dataset2 = datasaver.dataset\n",
    "print(sum(t_d)/len(t_d))"
   ]
  },
  {
   "cell_type": "code",
   "execution_count": 10,
   "id": "5a3111b6",
   "metadata": {},
   "outputs": [
    {
     "name": "stderr",
     "output_type": "stream",
     "text": [
      "2021-11-15 18:59:32,651 ¦ py.warnings ¦ WARNING ¦ warnings ¦ _showwarnmsg ¦ 109 ¦ C:\\Users\\A-DAVI~1\\AppData\\Local\\Temp/ipykernel_1704/1493501015.py:5: TqdmDeprecationWarning: This function will be removed in tqdm==5.0.0\n",
      "Please use `tqdm.notebook.tqdm` instead of `tqdm.tqdm_notebook`\n",
      "  bar = tqdm.tqdm_notebook(total=size_a*size_b*size_n)\n",
      "\n"
     ]
    },
    {
     "data": {
      "application/vnd.jupyter.widget-view+json": {
       "model_id": "ec89d70af2f3436990566404d540d812",
       "version_major": 2,
       "version_minor": 0
      },
      "text/plain": [
       "  0%|          | 0/100000 [00:00<?, ?it/s]"
      ]
     },
     "metadata": {},
     "output_type": "display_data"
    },
    {
     "name": "stdout",
     "output_type": "stream",
     "text": [
      "Starting experimental run with id: 11. \n",
      "0.17479894299996857\n"
     ]
    }
   ],
   "source": [
    "#Measurement with context manager with shaped cache and dataset in memory\n",
    "meas_with_shape.set_shapes(detect_shape_of_measurement((dmm.v1,dmm.v2), (size_a, size_b)))\n",
    "\n",
    "t_e = []\n",
    "bar = tqdm.tqdm_notebook(total=size_a*size_b*size_n)\n",
    "\n",
    "for _ in range(size_n):\n",
    "    with meas_with_shape.run(dataset_class=DataSetType.DataSetInMem) as datasaver:\n",
    "        for dac1_sweep in np.linspace(-1, 1, size_a): \n",
    "            dac.ch1(dac1_sweep)\n",
    "            t = []\n",
    "            for dac2_sweep in np.linspace(-1, 1, size_b):\n",
    "                dac.ch2(dac2_sweep)\n",
    "                t0 = time.perf_counter()\n",
    "                datasaver.add_result(\n",
    "                    (dac.ch1, dac.ch1()),\n",
    "                    (dac.ch2, dac.ch2()),\n",
    "                    (dmm.v1, dmm.v1()),\n",
    "                    (dmm.v2, dmm.v2())\n",
    "                    )\n",
    "                t1 = time.perf_counter()\n",
    "                t.append(t1-t0)\n",
    "                bar.update(1)\n",
    "            t_e.append(sum(t)/len(t)*1000)\n",
    "        dataset2 = datasaver.dataset\n",
    "print(sum(t_e)/len(t_e))"
   ]
  },
  {
   "cell_type": "code",
   "execution_count": 11,
   "id": "75b8ccf2",
   "metadata": {},
   "outputs": [
    {
     "name": "stdout",
     "output_type": "stream",
     "text": [
      "Starting experimental run with id: 12. Using 'qcodes.utils.dataset.doNd.dond'\n",
      "0.210344111\n"
     ]
    }
   ],
   "source": [
    "#Measurement with doNd, estimated time by total dataset size\n",
    "#Bar is not included since this may add a slight delay.\n",
    "sweep_1 = LinSweep(dac.ch1, -1, 1, size_a)\n",
    "sweep_2 = LinSweep(dac.ch2, -1, 1, size_b)\n",
    "t_f = []\n",
    "for _ in range(size_n):\n",
    "    t0 = time.perf_counter()\n",
    "    dond(sweep_1, sweep_2, dmm.v1, dmm.v2, exp=testing_exp) \n",
    "    t1 = time.perf_counter()\n",
    "    t_f.append(t1-t0)\n",
    "print(sum(t_f)/len(t_f)/size_a/size_b*1000)   "
   ]
  },
  {
   "cell_type": "code",
   "execution_count": 12,
   "id": "61046b59",
   "metadata": {},
   "outputs": [
    {
     "data": {
      "image/png": "[encoded data removed]",
      "text/plain": [
       "<Figure size 432x288 with 1 Axes>"
      ]
     },
     "metadata": {
      "needs_background": "light"
     },
     "output_type": "display_data"
    }
   ],
   "source": [
    "#plotting the measurement context results in a single figure.\n",
    "import matplotlib.mlab as mlab\n",
    "import matplotlib.pyplot as plt\n",
    "\n",
    "plt.plot(t_a, '.r', label='Regular cache, disk DB') \n",
    "plt.plot(t_b, '.b', label='Shaped cache, disk DB')\n",
    "plt.plot(t_c, '.k', label='No cache, disk DB')\n",
    "plt.plot(t_d, '.m', label='Regular cache, memory only')\n",
    "plt.plot(t_e, '.g', label='Shaped cache, memory only')\n",
    "#plt.ylim(0,0.01)\n",
    "plt.ylabel('Iter time (s)') \n",
    "plt.xlabel('Iter #') \n",
    "plt.legend()\n",
    "plt.show() "
   ]
  },
  {
   "cell_type": "code",
   "execution_count": 15,
   "id": "5048cbcf",
   "metadata": {},
   "outputs": [
    {
     "data": {
      "image/png": "[encoded data removed]",
      "text/plain": [
       "<Figure size 432x288 with 1 Axes>"
      ]
     },
     "metadata": {
      "needs_background": "light"
     },
     "output_type": "display_data"
    },
    {
     "data": {
      "image/png": "[encoded data removed]",
      "text/plain": [
       "<Figure size 432x288 with 1 Axes>"
      ]
     },
     "metadata": {
      "needs_background": "light"
     },
     "output_type": "display_data"
    },
    {
     "data": {
      "image/png": "[encoded data removed]",
      "text/plain": [
       "<Figure size 432x288 with 1 Axes>"
      ]
     },
     "metadata": {
      "needs_background": "light"
     },
     "output_type": "display_data"
    },
    {
     "data": {
      "image/png": "[encoded data removed]",
      "text/plain": [
       "<Figure size 432x288 with 1 Axes>"
      ]
     },
     "metadata": {
      "needs_background": "light"
     },
     "output_type": "display_data"
    },
    {
     "data": {
      "image/png": "[encoded data removed]",
      "text/plain": [
       "<Figure size 432x288 with 1 Axes>"
      ]
     },
     "metadata": {
      "needs_background": "light"
     },
     "output_type": "display_data"
    }
   ],
   "source": [
    "#plotting the measurement context results as a histogram.\n",
    "import matplotlib.mlab as mlab\n",
    "import matplotlib.pyplot as plt\n",
    "\n",
    "plt.hist(t_a, 50, facecolor= 'r', label='Regular cache, disk DB') \n",
    "plt.ylabel('Population')\n",
    "plt.ylim(0, size_a)\n",
    "plt.xlabel('Iter time') \n",
    "plt.legend()\n",
    "plt.show() \n",
    "plt.hist(t_b, 50, facecolor= 'b', label='Shaped cache, disk DB')\n",
    "plt.ylabel('Population')\n",
    "plt.ylim(0, size_a)\n",
    "plt.xlabel('Iter time') \n",
    "plt.legend()\n",
    "plt.show() \n",
    "plt.hist(t_c, 50, facecolor= 'k', label='No cache, disk DB')\n",
    "plt.ylabel('Population')\n",
    "plt.ylim(0, size_a)\n",
    "plt.xlabel('Iter time') \n",
    "plt.legend()\n",
    "plt.show() \n",
    "plt.hist(t_d, 50, facecolor= 'm', label='Regular cache, memory only')\n",
    "plt.ylabel('Population')\n",
    "plt.ylim(0, size_a)\n",
    "plt.xlabel('Iter time') \n",
    "plt.legend()\n",
    "plt.show() \n",
    "plt.hist(t_e, 50, facecolor= 'g', label='Shaped cache, memory only')\n",
    "plt.ylabel('Population')\n",
    "plt.ylim(0, size_a)\n",
    "plt.xlabel('Iter time') \n",
    "plt.legend()\n",
    "plt.show() "
   ]
  }
 ],
 "metadata": {
  "kernelspec": {
   "display_name": "Python 3 (ipykernel)",
   "language": "python",
   "name": "python3"
  },
  "language_info": {
   "codemirror_mode": {
    "name": "ipython",
    "version": 3
   },
   "file_extension": ".py",
   "mimetype": "text/x-python",
   "name": "python",
   "nbconvert_exporter": "python",
   "pygments_lexer": "ipython3",
   "version": "3.9.7"
  }
 },
 "nbformat": 4,
 "nbformat_minor": 5
}
